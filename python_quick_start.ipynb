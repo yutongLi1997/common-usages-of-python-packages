{
 "cells": [
  {
   "cell_type": "markdown",
   "metadata": {
    "_uuid": "6b01651e71d61248626828b11b195cb21d9d71fd"
   },
   "source": [
    "## Part 1: Pizza Menu"
   ]
  },
  {
   "cell_type": "markdown",
   "metadata": {
    "_uuid": "ba2dde08106f89084e82e7fe6b41bc39e5e71689"
   },
   "source": [
    "The \"CMP Pizza Shop\", has menu options stored in an XML data file, called **pizza.xml**. You will find the menu in the **pizza.xml** file in the **data/** provided with this project.\n",
    "\n",
    "The **pizza.xml** file includes the following information:\n",
    "\n",
    "- the name of the pizza shop\n",
    "- the sizes of the pizzas\n",
    "- the toppings available\n",
    "- the different crusts\n",
    "\n",
    "Here is an example menu in xml, for illustrative purposes (note that the pizza.xml file provided in the data.zip archive, might be different from this example):\n",
    "\n",
    "    <pizza>\n",
    "    \t<shopname>CMP Pizza Shop</shopname>\n",
    "    \t<sizes>\n",
    "    \t\t<size code=\"L\">Large</size>\n",
    "    \t\t<size code=\"XL\">Extra Large</size>\n",
    "    \t</sizes>\n",
    "    \t<toppings>\n",
    "    \t\t<topping code=\"x\">Extra Cheese</topping>\n",
    "    \t\t<topping code=\"m\">Mushrooms</topping>\n",
    "    \t</toppings>\n",
    "    \t<crusts>\n",
    "    \t\t<crust code=\"thick\">Thick Crust</crust>\n",
    "    \t</crusts>\n",
    "    </pizza>\n",
    "\n",
    "### Question 1 (a)\n",
    "\n",
    "Write python code in the below indicated cell, that reads in the **pizza.xml** file (located in data/), as an input using **xml.etree.ElementTree module**. \n",
    "\n",
    "### Question 1 (b)\n",
    "\n",
    "Using the ElementTree structure, print a human readable menu of pizza options for the pizza shop. This must include the pizza shop name, the pizza sizes, toppings, and crust options. For example, a human readable menu might look like the below:\n",
    "\n",
    "        CMP Pizza Shop\n",
    "        Sizes\n",
    "        - Large\n",
    "        - Extra Large\n",
    "\n",
    "        Toppings\n",
    "        - Extra Cheese\n",
    "        - Mushrooms\n",
    "\n",
    "        Crusts\n",
    "        - Thick Crust"
   ]
  },
  {
   "cell_type": "code",
   "execution_count": 2,
   "metadata": {
    "_uuid": "2972e0ec0b749973ff69b5191e9b1dae015f20a0"
   },
   "outputs": [],
   "source": [
    "# 1(a)\n",
    "import xml.etree.ElementTree as ET  # Import Element Tree module\n",
    "try:\n",
    "    tree = ET.parse('data/pizza.xml')  # Parse the xml file\n",
    "    root = tree.getroot()  # Get the root element of the ElementTree\n",
    "except Exception as e: # Throw an error\n",
    "    print ('error %s' %e)"
   ]
  },
  {
   "cell_type": "code",
   "execution_count": 3,
   "metadata": {
    "_uuid": "a012173472780cf7d451dce2b9814bb4f5d88035"
   },
   "outputs": [
    {
     "name": "stdout",
     "output_type": "stream",
     "text": [
      "shopname \n",
      "CMP Pizza Shop\n",
      "sizes \n",
      "\n",
      "- Extra Small\n",
      "- Small\n",
      "- Medium\n",
      "- Large\n",
      "- Extra Large\n",
      "toppings \n",
      "\n",
      "- Chilli\n",
      "- Mushrooms\n",
      "- Extra Cheese\n",
      "crusts \n",
      "\n",
      "- Thin Crust\n",
      "- Thick Crust\n",
      "- Cheesy Crust\n",
      "- Tomato Crust\n"
     ]
    }
   ],
   "source": [
    "#1(b)\n",
    "import xml.etree.ElementTree as ET  # Import Element Tree module\n",
    "try:\n",
    "    tree = ET.parse('data/pizza.xml')  # Parse the xml file\n",
    "    root = tree.getroot()  # Get the root element of the ElementTree\n",
    "    for child in root:  # Loop the ElementTree\n",
    "        print('%s \\n%s' %(child.tag,child.text.strip())) # Print 'shopname','size',etc.\n",
    "        for grchild in child:\n",
    "            print('- %s' %(grchild.text.strip())) # Print the content of 'shopname','size',etc.\n",
    "except Exception as e:\n",
    "    print ('error %s' %e)"
   ]
  },
  {
   "cell_type": "markdown",
   "metadata": {
    "_uuid": "0803719d55eb96dae8bd24bea7820fffc892496b"
   },
   "source": [
    "## Part 2: Pizza Report"
   ]
  },
  {
   "cell_type": "markdown",
   "metadata": {
    "_uuid": "9693e6b58cac34abdb827d0a856d39fde0e944b8"
   },
   "source": [
    "Using the datastructure created in **Part 1** of this project, write a program in the below indicated space that calculates the following:\n",
    "\n",
    "### Question 2 (a)\n",
    "\n",
    "1. The number of pizza sizes that are available from our pizza menu\n",
    "2. The number of toppings that are available in the pizza menu\n",
    "3. The number of crust options available in the pizza menu\n",
    "4. The total number of combinations of **different** pizzas that can be assembled from this menu. \n",
    "\n",
    "Assume the following about each pizza:\n",
    "\t\n",
    "- a pizza can only be one size (one pizza cannot be large and extra large at the same time)\n",
    "- a pizza can have any combinations of toppings, including none, one or all\n",
    "- a pizza can only have one type of crust (i.e. either thick or thin crust)\n",
    "\n",
    "Print the output of each calculation, along with a string denoting the value. For example\n",
    "\n",
    "    Number of pizza sizes = 2\n",
    "    Number of toppings = ...\n",
    "    ...\n",
    "\n",
    "### Question 2 (b)\n",
    "\n",
    "After printing these calculations, use the python CSV module to output your calculations as a single row of data to a CSV file with the name **pizza_report.csv**. Assume the following header for your CSV file along with the calculated numbers from the previous example:\n",
    "\n",
    "    sizes,toppings,crusts,total_combo  \n",
    "\n",
    "### Question 2 (c)\n",
    "\n",
    "After writing the report, re-open the file **pizza_report.csv**, and print each line of the file to the notebook."
   ]
  },
  {
   "cell_type": "code",
   "execution_count": 4,
   "metadata": {
    "_kg_hide-output": false,
    "_uuid": "16ac7404184e0f05ee6645dcc01c837f813d1b58"
   },
   "outputs": [
    {
     "name": "stdout",
     "output_type": "stream",
     "text": [
      "Number of sizes : 5\n",
      "Number of toppings : 3\n",
      "Number of crusts : 4\n",
      "The total number of choices: 160\n"
     ]
    }
   ],
   "source": [
    "# 2(a)\n",
    "def factorial(n): # Calculate n!\n",
    "    if(n == 1 or n == 0):\n",
    "        return 1\n",
    "    else:\n",
    "        return (n*factorial(n-1))\n",
    "def combinations(m,n): # Calculate the combinations\n",
    "    return factorial(n)/(factorial(n-m)*factorial(m))\n",
    "choice = 1 # Total choice of pizza\n",
    "number_list = [] # Store the number of size,toppings and crusts as a list\n",
    "for child in root:\n",
    "    count = 0\n",
    "    number = 0\n",
    "    if(child.tag == 'toppings'): # Calculate the number of the combinations of toppings\n",
    "        count = combinations(0,3) + combinations(1,3) + combinations(2,3) + combinations(3,3)\n",
    "    else:\n",
    "        for grchild in child:\n",
    "            count +=1\n",
    "    if (count == 0): # Skip shopname\n",
    "        continue\n",
    "    for grchild in child:\n",
    "        number +=1\n",
    "    choice *= count # Calculate the number of choices of pizza\n",
    "    number_list.append(number)\n",
    "    print('Number of %s : %s' %(child.tag,str(number))) # Print the number of size, toppings and crusts\n",
    "print('The total number of choices: %s' %(choice)) # Print the number of the choices of pizza\n",
    "number_list.append(choice) # Store the number of choices of pizza into the list"
   ]
  },
  {
   "cell_type": "code",
   "execution_count": 5,
   "metadata": {
    "_uuid": "41ebeca334df560c840d9f6b48e853cd48403193"
   },
   "outputs": [],
   "source": [
    "#2(b)\n",
    "import csv;\n",
    "try:\n",
    "    with open('data/pizza_report.csv','w') as pizza: # Open the file\n",
    "        pizza.write('sizes,toppings,crusts,total_combo\\n') # Write the title into the file\n",
    "        pizza.write(str(number_list[0:4])) # Write the number of variables into list\n",
    "except IOError as ioe:\n",
    "    print('An I/O Error occurred opening this file: %s' %ioe)"
   ]
  },
  {
   "cell_type": "code",
   "execution_count": 7,
   "metadata": {
    "_uuid": "dc9fbdc8d0ed996c03b7db9a9b28068fdf15d250"
   },
   "outputs": [
    {
     "name": "stdout",
     "output_type": "stream",
     "text": [
      "sizes,toppings,crusts,total_combo\n",
      "[5, 3, 4, 160]\n"
     ]
    }
   ],
   "source": [
    "#2(c)\n",
    "try:\n",
    "    with open('data/pizza_report.csv','r') as file: # Open the file\n",
    "        f = csv.reader(file)\n",
    "        for row in f: # Print the file\n",
    "            print(','.join(row))\n",
    "except IOError as ioe:\n",
    "    print('An I/O Error occurred opening this file: %s' %ioe)  "
   ]
  },
  {
   "cell_type": "markdown",
   "metadata": {
    "_uuid": "f76a21fbae252e004fc928710dbe458d4a46d85f"
   },
   "source": [
    "## Part 3: Pizza Specials\n"
   ]
  },
  {
   "cell_type": "markdown",
   "metadata": {
    "_uuid": "3c08c5e9396a79fe8f06e4e6ca9b05aebd4e87b9"
   },
   "source": [
    "In addition to the standard menu, the CMP pizza shop also stores **Pizza Specials** in a file **pizza_specials.csv**, with the following format:\n",
    "\n",
    "    name,size,toppings,crust  \n",
    "    Supreme,XL,xm,thick  \n",
    "    Simple Cheese,L,x,thick\n",
    "\n",
    "\n",
    "Every pizza special has a name, a size, a combination of toppings, and a crust. The size, toppings, and crust are referenced by a code attribute, which is specified in the pizza.xml XML file. For example, the topping code for Mushrooms is \"m\", and the topping code for Extra Cheese is \"x\". The Supreme pizza has both Mushrooms and Extra Cheese as designated by the string \"xm\". \n",
    "\n",
    "### Part 3 (a)\n",
    "\n",
    "Write code in the answer cell below, that reads in the pizza.xml file (again using the xml.etree.ElementTree module) and stores the sizes, toppings, and crusts in dictionaries with the code for that element as the key and the text for the element as the value.\n",
    "\n",
    "### Part 3 (b)\n",
    "\n",
    "Using these dictionaries, read in the Pizza Specials from the pizza_specials.csv file and convert them to a menu text description. \n",
    "\n",
    "### Part 3 (c)\n",
    "\n",
    "Write code to output each special's menu description as a human readable line in a text file called **pizza_specials.txt**. For example, the Supreme special would be output in the txt file as:\n",
    "\n",
    "        Supreme: Extra Large Pizza with Extra Cheese and Mushrooms and Thick Crust \n",
    "   \n",
    "### Part 3 (d)\n",
    "\n",
    "After writing the pizza Specials, re-open the file **pizza_specials.txt**, and print each line of the file to the notebook."
   ]
  },
  {
   "cell_type": "code",
   "execution_count": 8,
   "metadata": {
    "_uuid": "0f0ee2aa01a12905ac4df5601a58fdb3e58a4c98"
   },
   "outputs": [
    {
     "name": "stdout",
     "output_type": "stream",
     "text": [
      "[['name', 'size', 'toppings', 'crust'], ['Supreme', 'Extra Large', 'Extra Cheese and Mushrooms', 'Thick Crust'], ['Simple Cheese', 'Large', 'Extra Cheese', 'Thick Crust']]\n",
      "Supreme: Extra Large with Extra Cheese and Mushrooms and Thick Crust\n",
      "Simple Cheese: Large with Extra Cheese and Thick Crust\n",
      "\n"
     ]
    }
   ],
   "source": [
    "#c(a)\n",
    "import xml.etree.ElementTree as et\n",
    "import csv\n",
    "pizza = {} # Create a dictionary to store the variables\n",
    "try:\n",
    "    tree = et.ElementTree(file='data/pizza.xml') # Read the file\n",
    "    root = tree.getroot()\n",
    "    for child in root:\n",
    "        for grchild in child:\n",
    "            pizza[grchild.attrib.get('code')] = grchild.text.strip() # Use code as a key, and text as a value, save them into a dictionary\n",
    "except IOError as ioe:\n",
    "    print('An I/O Error occurred opening this file: %s' %ioe)\n",
    "#c(b)\n",
    "pizza_list=[]\n",
    "try:\n",
    "    with open('data/pizza_specials.csv') as file: # Read the file\n",
    "        f = csv.reader(file)\n",
    "        for row in f:\n",
    "            pizza_list.append(row) # Store the file in a list\n",
    "except IOError as ioe:\n",
    "    print('An I/O Error occurred opening this file: %s' %ioe)\n",
    "for i in pizza_list[1:]: # Loop the list and skip title row\n",
    "    for j in range(4):\n",
    "        tmpo = ''\n",
    "        if(i[j] in pizza.keys()): # find the full name in the dictionary\n",
    "            tmp = pizza[i[j]]\n",
    "            i[j] = tmp # Convert the abbreviation to full name\n",
    "        elif(len(i[j])>1 and len(i[j])<4): # If contains two or more than two toppings\n",
    "            tmpo = i[j]\n",
    "            i[j] = ''\n",
    "            for u in tmpo: # Loop the string character by character\n",
    "                if(u in pizza.keys()): # Find the full name sperately and combine them with ' and '\n",
    "                    i[j] = i[j] + ' and ' + pizza[u] \n",
    "            i[j] = '' * 5 + i[j][5:] # Replace the first unnecessary string ' and ' to ''\n",
    "print(pizza_list) # Print the list\n",
    "#3(c)\n",
    "try:\n",
    "    with open('data/pizza_specials.txt','w') as f:\n",
    "        for row in pizza_list[1:]: # Write the list into 'pizza_specials.txt' file\n",
    "            f.write('%s: %s with %s and %s\\n' %(row[0],row[1],row[2],row[3]))\n",
    "except IOError as ioe:\n",
    "    print('An I/O Error occurred opening this file: %s' %ioe)\n",
    "#3(d)\n",
    "try:\n",
    "    with open('data/pizza_specials.txt','r') as f: # Print the file\n",
    "        print(f.read())\n",
    "except IOError as ioe:\n",
    "    print('An I/O Error occurred opening this file: %s' %ioe)"
   ]
  },
  {
   "cell_type": "markdown",
   "metadata": {
    "_uuid": "994aebf26595d0a7bb39563386e3c43426bbb04c"
   },
   "source": [
    "## Part 4: Pizza Decider\n"
   ]
  },
  {
   "cell_type": "markdown",
   "metadata": {
    "_uuid": "ee6f92aef1249e11ba3107a6d8fe7a0e5f1810a0"
   },
   "source": [
    "**Who should get a pizza?** \n",
    "\n",
    "This part of the project will use a data set collected from the Reddit group **\"Random Acts of Pizza\"** (https://www.reddit.com/r/Random_Acts_Of_Pizza/). Random Acts of Pizza is a community on the website Reddit.com that facilitates the sending and receiving of pizzas between strangers. People write a request for a pizza on the Reddit group and someone may accept their request and order them a pizza!\n",
    "\n",
    "(a version of this data is also available on Kaggle)\n",
    "\n",
    "A data set has been collated for the textual requests to this Reddit Group. A simplified excerpt of the requests to /r/Random_Acts_of_Pizza has been provided in the text file **random_acts_pizza.csv**. There are 4 columns in this CSV file:\n",
    "\n",
    "- requester_username - the name of the user requesting pizza\n",
    "- request_text - the text of the pizza request written by the user\n",
    "- requester_received_pizza - a Boolean whether or not the pizza request was accepted\n",
    "- requester_account_age_in_days_at_request - the age of the reddit user account, measured at the time the user made the request\n",
    "\n",
    "In this question, you will need to write code that will use this the random_acts_pizza.csv file to automate the decision as to whether a new request for pizza should be accepted or not.\n",
    "\n",
    "### Part 4 (a)\n",
    "\n",
    "Using the csv python module, read in the \"Random Acts of Pizza\" request history that is contained in the **random_acts_pizza.csv** file.  Add a class called PizzaDecider to your program, which uses the request history to output a boolean value, deciding whether or not a new request for pizza should be accepted. This decision is based according to the following criteria:\n",
    "\n",
    "1) The user requesting a new pizza (identified by their username) has **not previously received** a pizza from the \"Random Acts of Pizza\" group.\n",
    "2) The text of the user's pizza request is longer than **400 characters** in length.\n",
    "\n",
    "### Part 4 (b)\n",
    "\n",
    "After you have created the PizzaDecider class, use the json python module to have your program read in a file called pizza_request.json, which contains one request for pizza. The request file is a dictionary which has two keys:  \n",
    "-- requester_username - the name of the user requesting pizza\n",
    "-- request_text - the text of the pizza request written by the user\n",
    "\n",
    "For an example pizza request see the file, **pizza_request.json** in the data.zip.\n",
    "\n",
    "Your program will pass the pizza request read in from the pizza_request.json file, to a method in the PizzaDecider class that will return a boolean whether or not the user should get a pizza according to the criteria above.\n",
    "\n",
    "### Part 4 (c)\n",
    "\n",
    "Your program should now write out the decision from the PizzaDecider to a new JSON file called pizza_decision.json which is a dictionary with the following keys: \n",
    "- requester_username - the name of the user requesting pizza\n",
    "- request_text - the text of the pizza request written by the user\n",
    "- receive_pizza - a Boolean, stating whether or not the pizza request should be accepted according to the criteria\n",
    "\n",
    "For an example of the expected output, see the file **pizza_decision.json** in the data.zip, for the pizza decision from the **pizza_request.json** example mentioned earlier.\n",
    "\n",
    "### Part 4 (d)\n",
    "Print to the notebook the decision for the user given in **pizza_decision.json**. For example,\n",
    "        \n",
    "        User: \"spez\" request for pizza should not be accepted."
   ]
  },
  {
   "cell_type": "code",
   "execution_count": 10,
   "metadata": {
    "_uuid": "694c9ce42c1ae7948728fe48284da8a8f00daf35"
   },
   "outputs": [
    {
     "name": "stdout",
     "output_type": "stream",
     "text": [
      "False\n",
      "anyquestions: request for pizza should not be accepted\n"
     ]
    }
   ],
   "source": [
    "# 4(a)\n",
    "import json\n",
    "import csv\n",
    "rap = []\n",
    "try:\n",
    "    with open('data/random_acts_pizza.csv') as file: # Open the file\n",
    "        f = csv.reader(file)\n",
    "        for row in f:\n",
    "            rap.append(row) # Store the file into a list named rap\n",
    "except IOError as ioe:\n",
    "    print('An I/O Error occurred opening this file: %s' %ioe)\n",
    "class PizzaDecider(): # Create the pizzaDecider class\n",
    "    def __init__(self,request):\n",
    "        self.list = request\n",
    "    def decision(self): # Decide if a requester could get a pizza\n",
    "        length = len(self.list[0])\n",
    "        recived_pizza = self.list[2]\n",
    "        name = self.list[3]\n",
    "        if(length>400 and recived_pizza == 'FALSE'): # If the request length is longer than 400 and the requester hasn't recieved a pizza before\n",
    "            return True # The requester should get a pizza\n",
    "        else:\n",
    "            return False\n",
    "# Test the decision() function\n",
    "# my_p1 = PizzaDecider(rap[5])\n",
    "# print(my_p1.decision())\n",
    "#4(b)\n",
    "rap = []\n",
    "try:\n",
    "    with open('data/random_acts_pizza.csv') as file: # Open the file\n",
    "        f = csv.reader(file)\n",
    "        for row in f:\n",
    "            rap.append(row) # Store the file into a list named rap\n",
    "except IOError as ioe:\n",
    "    print('An I/O Error occurred opening this file: %s' %ioe)\n",
    "def find_request(name): # Use a requester name to find the full information from the list\n",
    "    for row in rap:\n",
    "        if(name == row[3]):\n",
    "            return row[3]\n",
    "        else:\n",
    "            return 'requester name cannot be found' \n",
    "class PizzaDecider(): # Create the pizzaDecider class\n",
    "    def __init__(self,request):\n",
    "        tmp_list = []\n",
    "        if(type(request) == dict): # If the input is a dictionary, use the fuction find_request to return the full record of the requester\n",
    "            request = find_request(request['requester_username'])\n",
    "        self.list = request\n",
    "    def decision(self): # Decide if a requester could get a pizza\n",
    "        length = len(self.list[0])\n",
    "        recived_pizza = self.list[2]\n",
    "        name = self.list[3]\n",
    "        if(length>400 and recived_pizza == 'FALSE'): # If the request length is longer than 400 and the requester hasn't recieved a pizza before\n",
    "            return True # The requester should get a pizza\n",
    "        else:\n",
    "            return False\n",
    "try:\n",
    "    with open('data/pizza_request.json') as f: # Load the file\n",
    "        request = json.load(f)\n",
    "except IOError as ioe:\n",
    "    print('An I/O Error occurred opening this file: %s' %ioe)\n",
    "my_p2 = PizzaDecider(request)\n",
    "print(my_p2.decision()) # Print if the requester could get a pizza\n",
    "# print(request['requester_username'])\n",
    "# print(request)\n",
    "#4(c)\n",
    "def find_request(name): # Use a requester name to find the full information from the list\n",
    "    for row in rap:\n",
    "        if(name == row[3]):\n",
    "            return row\n",
    "    return 'requester name cannot be found' \n",
    "class PizzaDecider():\n",
    "    def __init__(self,request):\n",
    "        tmp_list = []\n",
    "        if(type(request) == dict): # If the input is a dictionary, use the fuction find_request to return the full record of the requester\n",
    "            request = find_request(request['requester_username'])\n",
    "        self.list = request\n",
    "    def decision(self):\n",
    "        length = len(self.list[0])\n",
    "        recived_pizza = self.list[2]\n",
    "        mydict = {'requester_username':self.list[3],'requester_text':self.list[0],\n",
    "                  'recieve_pizza':''} # Store requester_username, requester_text into a dictionary\n",
    "        if(length>400 and recived_pizza == 'FALSE'): # If the request length is longer than 400 and the requester hasn't recieved a pizza before\n",
    "            mydict['recieve_pizza'] = 'true' # The value of the 'recieve_pizza' key should be 'true'\n",
    "        else: # If the request didn't meet the criteria\n",
    "            mydict['recieve_pizza'] = 'false' # The value of the 'recieve_pizza' key should be 'false'\n",
    "        return mydict\n",
    "try:\n",
    "    with open('data/pizza_request.json') as f: # Read data from pizza_request.json\n",
    "        request = json.load(f)\n",
    "except IOError as ioe:\n",
    "    print('An I/O Error occurred opening this file: %s' %ioe)\n",
    "my_p2 = PizzaDecider(request) # Create a new object\n",
    "try:\n",
    "    with open('data/pizza_decision.json','w') as f:\n",
    "        json.dump(my_p2.decision(),f) # Convert the dictionary to a string and write it into pizza_decision.json\n",
    "except IOError as ioe:\n",
    "    print('uh Oh! I/O Error: %s' % ioe)\n",
    "#4(d)\n",
    "try:\n",
    "    with open('data/pizza_request.json') as f: # Read data from pizza_request.json\n",
    "        request = json.load(f)\n",
    "except IOError as ioe:\n",
    "    print('An I/O Error occurred opening this file: %s' %ioe)\n",
    "my_p3 = PizzaDecider(request) # Create a new object\n",
    "if(my_p3.decision()['recieve_pizza'] == 'true'): # Check if the requester should get a pizza\n",
    "    a = ''\n",
    "else:\n",
    "    a = 'not'\n",
    "print('%s: request for pizza should %s be accepted' %(my_p3.decision()['requester_username'],a)) # Print the result"
   ]
  },
  {
   "cell_type": "markdown",
   "metadata": {
    "_uuid": "9cfa222252ea30422dd852a7cded4984314ffaf4"
   },
   "source": [
    "## Part 5: Visualing Pizza data\n",
    "\n",
    "For this final part of the project, you will use statistical visualisation techniques you have covered in the module, to help explore the data. This question will use the **random_acts_pizza.csv** file from the previous question.\n",
    "\n",
    "\n",
    "Using the **random_acts_pizza.csv** file, create a figure containing a subplot, with two rows, and two columns. Plot the following diagrams from the **seaborn** library in the subplots.\n",
    "1. A distplot of the account age at the time of request (**requester_account_age_in_days_at_request**) \n",
    "2. A boxplot, where the x-axis (the catagory) is if the request was fullfilled or not (**requester_received_pizza**), and the y-axis is the lenth of the request string (the length of **request_text**)\n",
    "3. A violin plot, where the x-axis (the catagory) is if the request was fullfilled or not (**requester_received_pizza**), and the y-axis is the number of times the string **pizza** is counted in **request_text**\n",
    "4. A 2D scatterplot, where the x-axis is the account age, the y-axis is the length of the request, and the marker color if different depending on if the request was fullfilled (**requester_received_pizza**)\n",
    "\n",
    "Remember to label axes, and choose appropriate informative titles for the plots."
   ]
  },
  {
   "cell_type": "code",
   "execution_count": 12,
   "metadata": {
    "_uuid": "cbf1ca6bf5081c82aebc7397f4892973d015b5bb",
    "scrolled": true
   },
   "outputs": [
    {
     "ename": "ImportError",
     "evalue": "No module named seaborn",
     "output_type": "error",
     "traceback": [
      "\u001b[0;31m---------------------------------------------------------------------------\u001b[0m",
      "\u001b[0;31mImportError\u001b[0m                               Traceback (most recent call last)",
      "\u001b[0;32m<ipython-input-12-c2b30199674e>\u001b[0m in \u001b[0;36m<module>\u001b[0;34m()\u001b[0m\n\u001b[1;32m      3\u001b[0m \u001b[0;32mimport\u001b[0m \u001b[0mpandas\u001b[0m \u001b[0;32mas\u001b[0m \u001b[0mpd\u001b[0m\u001b[0;34m\u001b[0m\u001b[0m\n\u001b[1;32m      4\u001b[0m \u001b[0;32mimport\u001b[0m \u001b[0mmatplotlib\u001b[0m\u001b[0;34m.\u001b[0m\u001b[0mpyplot\u001b[0m \u001b[0;32mas\u001b[0m \u001b[0mplt\u001b[0m\u001b[0;34m\u001b[0m\u001b[0m\n\u001b[0;32m----> 5\u001b[0;31m \u001b[0;32mimport\u001b[0m \u001b[0mseaborn\u001b[0m \u001b[0;32mas\u001b[0m \u001b[0msns\u001b[0m\u001b[0;34m\u001b[0m\u001b[0m\n\u001b[0m\u001b[1;32m      6\u001b[0m \u001b[0mfigure\u001b[0m \u001b[0;34m=\u001b[0m \u001b[0mplt\u001b[0m\u001b[0;34m.\u001b[0m\u001b[0mfigure\u001b[0m\u001b[0;34m(\u001b[0m\u001b[0;34m)\u001b[0m\u001b[0;34m\u001b[0m\u001b[0m\n\u001b[1;32m      7\u001b[0m \u001b[0msns\u001b[0m\u001b[0;34m.\u001b[0m\u001b[0mset\u001b[0m\u001b[0;34m(\u001b[0m\u001b[0mrc\u001b[0m\u001b[0;34m=\u001b[0m\u001b[0;34m{\u001b[0m\u001b[0;34m'figure.figsize'\u001b[0m\u001b[0;34m:\u001b[0m\u001b[0;34m(\u001b[0m\u001b[0;36m10\u001b[0m\u001b[0;34m,\u001b[0m\u001b[0;36m10\u001b[0m\u001b[0;34m)\u001b[0m\u001b[0;34m}\u001b[0m\u001b[0;34m)\u001b[0m\u001b[0;34m\u001b[0m\u001b[0m\n",
      "\u001b[0;31mImportError\u001b[0m: No module named seaborn"
     ]
    }
   ],
   "source": [
    "# Enter your code for Part 5 here\n",
    "#%matplotlib inline\n",
    "import pandas as pd\n",
    "import matplotlib.pyplot as plt\n",
    "import seaborn as sns\n",
    "figure = plt.figure()\n",
    "sns.set(rc={'figure.figsize':(10,10)})\n",
    "# Add subplots and set title for each subplots\n",
    "ax1 = figure.add_subplot(221)\n",
    "ax1.set_title(\"Age Density\") \n",
    "ax2 = figure.add_subplot(222)\n",
    "# ax2.set_title(\"the relationship between the length of request and the request was fulfilled\")\n",
    "ax3 = figure.add_subplot(223)\n",
    "# ax3.set_title(\"the relationship between the times \\n pizza was mentioned in request and the request was fulfilled\")\n",
    "ax4 = figure.add_subplot(224)\n",
    "# ax4.set_title(\"the relationship among age, the length of\\n request and if the request was fulfilled\")\n",
    "\n",
    "# titles overlap with plots and labels of y-axis.\n",
    "\n",
    "# Read the file\n",
    "df = pd.read_csv('data/random_acts_pizza.csv')\n",
    "\n",
    "sns.distplot(df['requester_account_age_in_days_at_request'],ax = ax1) # Display the relative fequency of account age\n",
    "sns.boxplot(x = df['requester_received_pizza'], y = df['request_text'].str.len(),ax = ax2) # Display the relationship between length of the request text and if their request were fulfilled\n",
    "sns.violinplot(x = df['requester_received_pizza'], y = df['request_text'].str.lower().str.count('pizza'),ax = ax3) # Display the relationship between the times pizza was mentioned in request and the request was fulfilled\n",
    "sns.scatterplot(df['requester_account_age_in_days_at_request'],y = df['request_text'].str.len(),hue = df['requester_received_pizza'],s = 20, ax = ax4) # Display the relationship among age, the length of request and if the request was fulfilled\n",
    "\n",
    "# Set the labels of x-axis and y-axis\n",
    "ax1.set(xlabel = 'age', ylabel = 'relative frequency')\n",
    "ax2.set(xlabel = 'if the request is fulfilled', ylabel = 'length of request text')\n",
    "ax3.set(xlabel = 'if the request is fulfilled', ylabel = 'number of times of string pizza')\n",
    "ax4.set(xlabel = 'age', ylabel = 'length of request text')\n",
    "\n",
    "# Show the plot\n",
    "plt.show()"
   ]
  }
 ],
 "metadata": {
  "kernelspec": {
   "display_name": "Python 2",
   "language": "python",
   "name": "python2"
  },
  "language_info": {
   "codemirror_mode": {
    "name": "ipython",
    "version": 2
   },
   "file_extension": ".py",
   "mimetype": "text/x-python",
   "name": "python",
   "nbconvert_exporter": "python",
   "pygments_lexer": "ipython2",
   "version": "2.7.16"
  }
 },
 "nbformat": 4,
 "nbformat_minor": 1
}
